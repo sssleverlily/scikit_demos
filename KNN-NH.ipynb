%matplotlib inline
import numpy as np

import matplotlib.pyplot as plt

n_dots = 40

X = 5 * np.random.rand(n_dots,1)

y = np.cos(X).ravel()



y += 0.2 * np.random.rand(n_dots) - 0.1



from sklearn.neighbors import KNeighborsRegressor

k = 5

knn = KNeighborsRegressor(k)
knn.fit(X, y);



T = np.linspace(0, 5, 500)[:, np.newaxis]

y_pred = knn.predict(T)

knn.score(X, y)



plt.figure(figsize=(16, 10), dpi=50)

plt.scatter(X, y, c='g', label='data', s=100)

plt.plot(T, y_pred, c='k', label='prediction', lw=4)

plt.axis('tight')

plt.title("KNeighborsRegressor (k = %i)" % k)

plt.show()